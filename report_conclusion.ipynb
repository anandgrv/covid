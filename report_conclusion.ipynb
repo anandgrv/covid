{
 "cells": [
  {
   "cell_type": "markdown",
   "metadata": {},
   "source": [
    "## Model 1. Predicting confirmed cases using recovery as a predictor. \n",
    "with this model we noted that recovery variable is a good predictor for confirmed case, the plot of the residual are homogeneous over the zero-line, the normal Q-Q plot show that in the middle of the distribution the two variables are similarly distributes, in the scale location plot we don't see any particular trend only a little improvement in the final part.\n",
    "![Model 1: confirmed vs recovery](images_for_report/model_1.png)\n"
   ]
  },
  {
   "cell_type": "markdown",
   "metadata": {},
   "source": [
    "## Model 2. Predicting confirmed cases using deaths as predictor.\n",
    "in this model we noted a worst result, the R Adjust drop down how to see in the table below, and we can see in the residual plot no homogeneity respect to the zero-line and the scale location show that there is a trend that when the fitted values improve the square root of the standardized residual improve too.\n",
    "![Model 2: confirmed vs deaths](images_for_report/model_2.png)"
   ]
  },
  {
   "cell_type": "markdown",
   "metadata": {},
   "source": [
    "## Model 3. Predicting confirmed cases using recovery as 2nd degree polynomial predictor.\n",
    "we want see if we use a second degree polynomial in the predictor variables change the results, in this case the R adjusted improved compare to the model 1, the residuals plot are more homogeneous over the zero-line, the normal Q-Q plot show a better distribution of the two variables and the scale location plot of this model reduce the little improve trend that there is in the model 1.\n",
    "![Model 3: confirmed vs recovery(2nd degree plynomial)](images_for_report/model_3.png)"
   ]
  },
  {
   "cell_type": "markdown",
   "metadata": {},
   "source": [
    "## Model 4. Predicting confirmed cases using deaths as 2nd degree polynomial predictor.\n",
    "the result of the model can shown that the adjusted R squared improve but with the diagnostic plot we can see that a critical issue remain, the resiuals plot is better than the model 2, are more homogeneous, but the grown-trend in the scale plot remains the same and the redisuals vs leverage plot show that improve a lot the presence of outliers.\n",
    "with this result we can say that a second degree polynomial in the deaths variable are better for predict the confirmed case but not enough compared with the recovery variable.\n",
    "![Model 4: confirmed vs deaths(2nd degree plynomial)](images_for_report/model_4.png)"
   ]
  },
  {
   "cell_type": "markdown",
   "metadata": {},
   "source": [
    "## Model 5. Predicting confirmed cases using recovery and death as predictor.\n",
    "in this model we want to see if we multiply the recovered people by the deaths people are better in prediction of confirmed case, we can see an adjusted R square really high, but the diagnostic plot show that there is a few issue, the residuals are not well distrubuted on the plot and there a few outliers really far to the zero-lines.\n",
    "![Model 5: confirmed vs recovery, deaths](images_for_report/model_5.png)"
   ]
  },
  {
   "cell_type": "markdown",
   "metadata": {},
   "source": [
    "## Model 6. Predicting confirmed cases using death + (recovery as 2nd degree polynomial).\n",
    "we try to use the model 5 but with recovery variable as second degree polynomial and see if the issue of model 5 can be fixed, \n",
    "is possible to see that the adjusted R squared improve but not significativelly, but the residuals plot show a better homogeneous distribution, and the outliers are reduced, the normal Q-Q plot show the the same distrubution of the the variables and the scale location plot change the trend, in model 5 there is a grown-trend that in the model 6 isn't.\n",
    "![Model 3: confirmed vs recovery(2nd degree plynomial), deaths](images_for_report/model_6.png)\n"
   ]
  },
  {
   "cell_type": "markdown",
   "metadata": {},
   "source": [
    "## best model\n",
    "![best model](images_for_report/table_adj.JPG)\n",
    "\n",
    "we can conclude that the sixth model are the best model to predict the confirmed case\n"
   ]
  },
  {
   "cell_type": "code",
   "execution_count": null,
   "metadata": {},
   "outputs": [],
   "source": []
  }
 ],
 "metadata": {
  "kernelspec": {
   "display_name": "Python 3",
   "language": "python",
   "name": "python3"
  },
  "language_info": {
   "codemirror_mode": {
    "name": "ipython",
    "version": 3
   },
   "file_extension": ".py",
   "mimetype": "text/x-python",
   "name": "python",
   "nbconvert_exporter": "python",
   "pygments_lexer": "ipython3",
   "version": "3.7.1"
  }
 },
 "nbformat": 4,
 "nbformat_minor": 2
}
